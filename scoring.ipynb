{
  "nbformat": 4,
  "nbformat_minor": 0,
  "metadata": {
    "colab": {
      "name": "scoring.ipynb",
      "provenance": [],
      "collapsed_sections": [],
      "mount_file_id": "16Tpa1qK4MDZcMTksKw6oUzH24aL6r6q4",
      "authorship_tag": "ABX9TyMM2bpzcXyJQU1R7aQ5LByB",
      "include_colab_link": true
    },
    "kernelspec": {
      "name": "python3",
      "display_name": "Python 3"
    },
    "language_info": {
      "name": "python"
    }
  },
  "cells": [
    {
      "cell_type": "markdown",
      "metadata": {
        "id": "view-in-github",
        "colab_type": "text"
      },
      "source": [
        "<a href=\"https://colab.research.google.com/github/GerousDan/scoring/blob/main/scoring.ipynb\" target=\"_parent\"><img src=\"https://colab.research.google.com/assets/colab-badge.svg\" alt=\"Open In Colab\"/></a>"
      ]
    },
    {
      "cell_type": "code",
      "source": [
        "import os\n",
        "import sys\n",
        "if 'google.colab' in sys.modules:\n",
        "  gdrive = '/content/drive' # dirpath = !pwd\n",
        "  if not os.path.exists(gdrive):\n",
        "    from google.colab import drive\n",
        "    drive.mount(gdrive)    \n",
        "  dirpath = os.path.join(gdrive, 'MyDrive') # dirpath = os.path.join(dirpath[0],'sample_data')\n",
        "else:\n",
        "  dirpath = os.path.join(os.path.expandvars(\"%userprofile%\"),'Downloads')\n",
        "\n",
        "print(dirpath)"
      ],
      "metadata": {
        "id": "SmGcLOh8EeLY",
        "colab": {
          "base_uri": "https://localhost:8080/"
        },
        "outputId": "031b2739-d9c2-44d1-fe06-d5af5077f1a4"
      },
      "execution_count": null,
      "outputs": [
        {
          "output_type": "stream",
          "name": "stdout",
          "text": [
            "/content/drive/MyDrive\n"
          ]
        }
      ]
    },
    {
      "cell_type": "code",
      "source": [
        "import matplotlib.pyplot as plt\n",
        "import seaborn as sns\n",
        "import scipy\n",
        "import statsmodels.formula.api as smf\n",
        "import statsmodels.api as sm\n",
        "from sklearn import model_selection, preprocessing, feature_selection, ensemble, linear_model, metrics, decomposition"
      ],
      "metadata": {
        "id": "OKat0p4aFmNY",
        "colab": {
          "base_uri": "https://localhost:8080/"
        },
        "outputId": "c925a28e-dcdf-4c8a-9596-9a811c321965"
      },
      "execution_count": null,
      "outputs": [
        {
          "output_type": "stream",
          "name": "stderr",
          "text": [
            "/usr/local/lib/python3.7/dist-packages/statsmodels/tools/_testing.py:19: FutureWarning: pandas.util.testing is deprecated. Use the functions in the public API at pandas.testing instead.\n",
            "  import pandas.util.testing as tm\n"
          ]
        }
      ]
    },
    {
      "cell_type": "code",
      "source": [
        "import pandas as pd\n",
        "pd.set_option('mode.chained_assignment',None)"
      ],
      "metadata": {
        "id": "-TUpRbho-JhC"
      },
      "execution_count": null,
      "outputs": []
    },
    {
      "cell_type": "code",
      "source": [
        "import numpy as np\n",
        "def clean_dataset(df):\n",
        "  assert isinstance(df, pd.DataFrame), \"df needs to be a pd.DataFrame\"\n",
        "  df.dropna(inplace=True)\n",
        "  indices_to_keep = ~df.isin([np.nan, np.inf, -np.inf]).any(1)\n",
        "  return df[indices_to_keep].astype(np.float64)"
      ],
      "metadata": {
        "id": "maqvwHcpLCTJ"
      },
      "execution_count": null,
      "outputs": []
    },
    {
      "cell_type": "code",
      "source": [
        "from sklearn.model_selection import train_test_split"
      ],
      "metadata": {
        "id": "hKNsPrjFGZqg"
      },
      "execution_count": null,
      "outputs": []
    },
    {
      "cell_type": "code",
      "source": [
        "from sklearn.preprocessing import MinMaxScaler\n",
        "from sklearn.linear_model import LinearRegression\n",
        "model = LinearRegression()\n",
        "scaler = MinMaxScaler(feature_range=(0,10))"
      ],
      "metadata": {
        "id": "GRp9myIIolTf"
      },
      "execution_count": null,
      "outputs": []
    },
    {
      "cell_type": "code",
      "source": [
        "from sklearn.preprocessing import RobustScaler\n",
        "skaler = RobustScaler()"
      ],
      "metadata": {
        "id": "lorCQqT6OMoY"
      },
      "execution_count": null,
      "outputs": []
    },
    {
      "cell_type": "code",
      "source": [
        "# !pip install lime"
      ],
      "metadata": {
        "id": "V8FhlOrYGHAA"
      },
      "execution_count": null,
      "outputs": []
    },
    {
      "cell_type": "code",
      "source": [
        "# from lime import lime_tabular"
      ],
      "metadata": {
        "id": "VMq5_H79GomO"
      },
      "execution_count": null,
      "outputs": []
    },
    {
      "cell_type": "code",
      "source": [
        "'''\n",
        "Recognize whether a column is numerical or categorical.\n",
        ":parameter\n",
        "    :param dtf: dataframe - input data\n",
        "    :param col: str - name of the column to analyze\n",
        "    :param max_cat: num - max number of unique values to recognize a column as categorical\n",
        ":return\n",
        "    \"cat\" if the column is categorical or \"num\" otherwise\n",
        "'''\n",
        "def utils_recognize_type(df, col, max_cat=20):\n",
        "    if (df[col].dtype == \"O\") | (df[col].nunique() < max_cat):\n",
        "        return \"cat\"\n",
        "    else:\n",
        "        return \"num\""
      ],
      "metadata": {
        "id": "cdtlGWpXG2cO"
      },
      "execution_count": null,
      "outputs": []
    },
    {
      "cell_type": "code",
      "source": [
        "def scaled(features):\n",
        "  for f in features:\n",
        "    data[f] = [round(i,1)*10 for s in scaler.fit_transform(data[f].values.reshape(-1, 1)) for i in s]"
      ],
      "metadata": {
        "id": "IqjQR0pnLo7P"
      },
      "execution_count": null,
      "outputs": []
    },
    {
      "cell_type": "code",
      "source": [
        "def scale(df, features):\n",
        "  for f in features:\n",
        "    df[f] = [round(i,1)*10 for s in scaler.fit_transform(df[f].values.reshape(-1, 1)) for i in s]"
      ],
      "metadata": {
        "id": "yvpJcnSAyaML"
      },
      "execution_count": null,
      "outputs": []
    },
    {
      "cell_type": "code",
      "source": [
        "file_name = 'stock-2022-05'\n",
        "df = pd.read_csv(os.path.join(dirpath, file_name+'.csv'))\n",
        "data=df[~df['select_base_score'].isnull()]"
      ],
      "metadata": {
        "id": "45zSGHT7_W6H"
      },
      "execution_count": null,
      "outputs": []
    },
    {
      "cell_type": "code",
      "source": [
        "dtf = df[(df['region']=='na') & (df['sector']=='Industrials') & (df['dividend_yield']==0)]\n",
        "dtf = dtf[['alpha_forecast','select_base_score','fitness_score','value_score','mom_score','controversy_score']]\n",
        "corr_matrix = dtf.copy()\n",
        "for col in corr_matrix.columns:\n",
        "    if corr_matrix[col].dtype == \"O\":\n",
        "         corr_matrix[col] = corr_matrix[col].factorize(sort=True)[0]\n",
        "corr_matrix = corr_matrix.corr(method=\"pearson\")\n",
        "sns.heatmap(corr_matrix, vmin=-1., vmax=1., annot=True, fmt='.2f', cmap=\"YlGnBu\", cbar=True, linewidths=0.5)\n",
        "plt.title(\"pearson correlation\")"
      ],
      "metadata": {
        "id": "dC4pzdo_HH4f",
        "colab": {
          "base_uri": "https://localhost:8080/",
          "height": 380
        },
        "outputId": "bb2302fd-e15f-499e-cdac-26c8617a412c"
      },
      "execution_count": null,
      "outputs": [
        {
          "output_type": "execute_result",
          "data": {
            "text/plain": [
              "Text(0.5, 1.0, 'pearson correlation')"
            ]
          },
          "metadata": {},
          "execution_count": 45
        },
        {
          "output_type": "display_data",
          "data": {
            "text/plain": [
              "<Figure size 432x288 with 2 Axes>"
            ],
            "image/png": "[encoded data removed]"
          },
          "metadata": {
            "needs_background": "light"
          }
        }
      ]
    },
    {
      "cell_type": "code",
      "source": [
        "print(data['sector'].unique())"
      ],
      "metadata": {
        "colab": {
          "base_uri": "https://localhost:8080/"
        },
        "outputId": "8d79a5ae-49c8-41b7-ddd5-fe5263666dd5",
        "id": "1n-TYZ-lMXMk"
      },
      "execution_count": null,
      "outputs": [
        {
          "output_type": "stream",
          "name": "stdout",
          "text": [
            "['Communication Services' 'Information Technology'\n",
            " 'Consumer Discretionary' 'Financials' 'Consumer Staples' 'Energy'\n",
            " 'Materials' 'Utilities' 'Health Care' 'Industrials']\n"
          ]
        }
      ]
    },
    {
      "cell_type": "code",
      "source": [
        "print(data['sector'].unique())"
      ],
      "metadata": {
        "colab": {
          "base_uri": "https://localhost:8080/"
        },
        "outputId": "8d79a5ae-49c8-41b7-ddd5-fe5263666dd5",
        "id": "XrzqRR1rMIbZ"
      },
      "execution_count": null,
      "outputs": [
        {
          "output_type": "stream",
          "name": "stdout",
          "text": [
            "['Communication Services' 'Information Technology'\n",
            " 'Consumer Discretionary' 'Financials' 'Consumer Staples' 'Energy'\n",
            " 'Materials' 'Utilities' 'Health Care' 'Industrials']\n"
          ]
        }
      ]
    },
    {
      "cell_type": "code",
      "source": [
        "dic_cols = {col:utils_recognize_type(dtf, col, max_cat=20) for col in dtf.columns}\n",
        "heatmap = dtf.isnull()\n",
        "for k,v in dic_cols.items():\n",
        " if v == \"num\":\n",
        "   heatmap[k] = heatmap[k].apply(lambda x: 0.5 if x is False else 1)\n",
        " else:\n",
        "   heatmap[k] = heatmap[k].apply(lambda x: 0 if x is False else 1)\n",
        "sns.heatmap(heatmap, cbar=False).set_title('Dataset Overview')\n",
        "plt.show()\n",
        "print(\"\\033[1;37;40m Categerocial \", \"\\033[1;30;41m Numeric \", \"\\033[1;30;47m NaN \")"
      ],
      "metadata": {
        "colab": {
          "base_uri": "https://localhost:8080/",
          "height": 380
        },
        "id": "JML6cI8NHPog",
        "outputId": "6f0b4aad-55d0-4628-cdd9-62ccab592028"
      },
      "execution_count": null,
      "outputs": [
        {
          "output_type": "display_data",
          "data": {
            "text/plain": [
              "<Figure size 432x288 with 1 Axes>"
            ],
            "image/png": "[encoded data removed]"
          },
          "metadata": {
            "needs_background": "light"
          }
        },
        {
          "output_type": "stream",
          "name": "stdout",
          "text": [
            "\u001b[1;37;40m Categerocial  \u001b[1;30;41m Numeric  \u001b[1;30;47m NaN \n"
          ]
        }
      ]
    },
    {
      "cell_type": "code",
      "source": [
        "dtf.info()"
      ],
      "metadata": {
        "colab": {
          "base_uri": "https://localhost:8080/"
        },
        "id": "sshzWrIcIFLM",
        "outputId": "bbfb5cb9-5ff9-4933-8210-13634b8eb7b2"
      },
      "execution_count": null,
      "outputs": [
        {
          "output_type": "stream",
          "name": "stdout",
          "text": [
            "<class 'pandas.core.frame.DataFrame'>\n",
            "RangeIndex: 7329 entries, 0 to 7328\n",
            "Data columns (total 6 columns):\n",
            " #   Column             Non-Null Count  Dtype  \n",
            "---  ------             --------------  -----  \n",
            " 0   alpha_forecast     6648 non-null   float64\n",
            " 1   select_base_score  6648 non-null   float64\n",
            " 2   fitness_score      6648 non-null   float64\n",
            " 3   value_score        6648 non-null   float64\n",
            " 4   mom_score          6648 non-null   float64\n",
            " 5   controversy_score  6648 non-null   float64\n",
            "dtypes: float64(6)\n",
            "memory usage: 343.7 KB\n"
          ]
        }
      ]
    },
    {
      "cell_type": "code",
      "source": [
        "from sklearn.linear_model import Ridge"
      ],
      "metadata": {
        "id": "3UXQOPl6Slp5"
      },
      "execution_count": null,
      "outputs": []
    },
    {
      "cell_type": "code",
      "source": [
        "model = Ridge(alpha=1.0)"
      ],
      "metadata": {
        "id": "r3QVXiQcSnM9"
      },
      "execution_count": null,
      "outputs": []
    },
    {
      "cell_type": "code",
      "source": [
        ""
      ],
      "metadata": {
        "id": "KgGT_EyESnR8"
      },
      "execution_count": null,
      "outputs": []
    },
    {
      "cell_type": "code",
      "source": [
        ""
      ],
      "metadata": {
        "id": "ZgwvnHDKSnYR"
      },
      "execution_count": null,
      "outputs": []
    },
    {
      "cell_type": "code",
      "source": [
        ""
      ],
      "metadata": {
        "id": "0RRA6kI7Sndp"
      },
      "execution_count": null,
      "outputs": []
    },
    {
      "cell_type": "code",
      "source": [
        ""
      ],
      "metadata": {
        "id": "YsQkMiP5SnsT"
      },
      "execution_count": null,
      "outputs": []
    },
    {
      "cell_type": "code",
      "source": [
        ""
      ],
      "metadata": {
        "id": "HlR9kqXBKB63"
      },
      "execution_count": null,
      "outputs": []
    },
    {
      "cell_type": "code",
      "source": [
        ""
      ],
      "metadata": {
        "id": "jhdIqMlmKB_m"
      },
      "execution_count": null,
      "outputs": []
    },
    {
      "cell_type": "code",
      "source": [
        ""
      ],
      "metadata": {
        "id": "1qj1fm91KCCx"
      },
      "execution_count": null,
      "outputs": []
    },
    {
      "cell_type": "code",
      "source": [
        ""
      ],
      "metadata": {
        "id": "lIv63KQ-KCIW"
      },
      "execution_count": null,
      "outputs": []
    },
    {
      "cell_type": "code",
      "source": [
        ""
      ],
      "metadata": {
        "id": "Ifs3reSVKCPF"
      },
      "execution_count": null,
      "outputs": []
    },
    {
      "cell_type": "code",
      "source": [
        ""
      ],
      "metadata": {
        "id": "DBi57yFiKCVQ"
      },
      "execution_count": null,
      "outputs": []
    },
    {
      "cell_type": "code",
      "source": [
        "# X = dtf_train.drop(\"Y\", axis=1).values\n",
        "# y = dtf_train[\"Y\"].values\n",
        "# feature_names = dtf_train.drop(\"Y\", axis=1).columns"
      ],
      "metadata": {
        "id": "5J-RxPS2J6Y_",
        "colab": {
          "base_uri": "https://localhost:8080/",
          "height": 204
        },
        "outputId": "6e88f291-a87a-49e6-935e-85c8cfaa26b9"
      },
      "execution_count": null,
      "outputs": [
        {
          "output_type": "error",
          "ename": "NameError",
          "evalue": "ignored",
          "traceback": [
            "\u001b[0;31m---------------------------------------------------------------------------\u001b[0m",
            "\u001b[0;31mNameError\u001b[0m                                 Traceback (most recent call last)",
            "\u001b[0;32m<ipython-input-20-9c0df0a427fc>\u001b[0m in \u001b[0;36m<module>\u001b[0;34m()\u001b[0m\n\u001b[0;32m----> 1\u001b[0;31m \u001b[0mX\u001b[0m \u001b[0;34m=\u001b[0m \u001b[0mdtf_train\u001b[0m\u001b[0;34m.\u001b[0m\u001b[0mdrop\u001b[0m\u001b[0;34m(\u001b[0m\u001b[0;34m\"Y\"\u001b[0m\u001b[0;34m,\u001b[0m \u001b[0maxis\u001b[0m\u001b[0;34m=\u001b[0m\u001b[0;36m1\u001b[0m\u001b[0;34m)\u001b[0m\u001b[0;34m.\u001b[0m\u001b[0mvalues\u001b[0m\u001b[0;34m\u001b[0m\u001b[0;34m\u001b[0m\u001b[0m\n\u001b[0m\u001b[1;32m      2\u001b[0m \u001b[0my\u001b[0m \u001b[0;34m=\u001b[0m \u001b[0mdtf_train\u001b[0m\u001b[0;34m[\u001b[0m\u001b[0;34m\"Y\"\u001b[0m\u001b[0;34m]\u001b[0m\u001b[0;34m.\u001b[0m\u001b[0mvalues\u001b[0m\u001b[0;34m\u001b[0m\u001b[0;34m\u001b[0m\u001b[0m\n\u001b[1;32m      3\u001b[0m \u001b[0mfeature_names\u001b[0m \u001b[0;34m=\u001b[0m \u001b[0mdtf_train\u001b[0m\u001b[0;34m.\u001b[0m\u001b[0mdrop\u001b[0m\u001b[0;34m(\u001b[0m\u001b[0;34m\"Y\"\u001b[0m\u001b[0;34m,\u001b[0m \u001b[0maxis\u001b[0m\u001b[0;34m=\u001b[0m\u001b[0;36m1\u001b[0m\u001b[0;34m)\u001b[0m\u001b[0;34m.\u001b[0m\u001b[0mcolumns\u001b[0m\u001b[0;34m\u001b[0m\u001b[0;34m\u001b[0m\u001b[0m\n",
            "\u001b[0;31mNameError\u001b[0m: name 'dtf_train' is not defined"
          ]
        }
      ]
    },
    {
      "cell_type": "code",
      "source": [
        "# ## Anova\n",
        "# selector = feature_selection.SelectKBest(score_func=  \n",
        "#                feature_selection.f_classif, k=10).fit(X,y)\n",
        "# anova_selected_features = feature_names[selector.get_support()]\n",
        "\n",
        "# ## Lasso regularization\n",
        "# selector = feature_selection.SelectFromModel(estimator= \n",
        "#               linear_model.LogisticRegression(C=1, penalty=\"l1\", \n",
        "#               solver='liblinear'), max_features=10).fit(X,y)\n",
        "# lasso_selected_features = feature_names[selector.get_support()]\n",
        " \n",
        "# ## Plot\n",
        "# dtf_features = pd.DataFrame({\"features\":feature_names})\n",
        "# dtf_features[\"anova\"] = dtf_features[\"features\"].apply(lambda x: \"anova\" if x in anova_selected_features else \"\")\n",
        "# dtf_features[\"num1\"] = dtf_features[\"features\"].apply(lambda x: 1 if x in anova_selected_features else 0)\n",
        "# dtf_features[\"lasso\"] = dtf_features[\"features\"].apply(lambda x: \"lasso\" if x in lasso_selected_features else \"\")\n",
        "# dtf_features[\"num2\"] = dtf_features[\"features\"].apply(lambda x: 1 if x in lasso_selected_features else 0)\n",
        "# dtf_features[\"method\"] = dtf_features[[\"anova\",\"lasso\"]].apply(lambda x: (x[0]+\" \"+x[1]).strip(), axis=1)\n",
        "# dtf_features[\"selection\"] = dtf_features[\"num1\"] + dtf_features[\"num2\"]\n",
        "# sns.barplot(y=\"features\", x=\"selection\", hue=\"method\", data=dtf_features.sort_values(\"selection\", ascending=False), dodge=False)"
      ],
      "metadata": {
        "id": "Usb4emW0J2lu",
        "colab": {
          "base_uri": "https://localhost:8080/",
          "height": 240
        },
        "outputId": "2c9efaf9-0d25-4fe8-c0c0-8be530434778"
      },
      "execution_count": null,
      "outputs": [
        {
          "output_type": "error",
          "ename": "NameError",
          "evalue": "ignored",
          "traceback": [
            "\u001b[0;31m---------------------------------------------------------------------------\u001b[0m",
            "\u001b[0;31mNameError\u001b[0m                                 Traceback (most recent call last)",
            "\u001b[0;32m<ipython-input-21-d06a8ea37bde>\u001b[0m in \u001b[0;36m<module>\u001b[0;34m()\u001b[0m\n\u001b[1;32m      1\u001b[0m \u001b[0;31m## Anova\u001b[0m\u001b[0;34m\u001b[0m\u001b[0;34m\u001b[0m\u001b[0;34m\u001b[0m\u001b[0m\n\u001b[1;32m      2\u001b[0m selector = feature_selection.SelectKBest(score_func=  \n\u001b[0;32m----> 3\u001b[0;31m                feature_selection.f_classif, k=10).fit(X,y)\n\u001b[0m\u001b[1;32m      4\u001b[0m \u001b[0manova_selected_features\u001b[0m \u001b[0;34m=\u001b[0m \u001b[0mfeature_names\u001b[0m\u001b[0;34m[\u001b[0m\u001b[0mselector\u001b[0m\u001b[0;34m.\u001b[0m\u001b[0mget_support\u001b[0m\u001b[0;34m(\u001b[0m\u001b[0;34m)\u001b[0m\u001b[0;34m]\u001b[0m\u001b[0;34m\u001b[0m\u001b[0;34m\u001b[0m\u001b[0m\n\u001b[1;32m      5\u001b[0m \u001b[0;34m\u001b[0m\u001b[0m\n",
            "\u001b[0;31mNameError\u001b[0m: name 'X' is not defined"
          ]
        }
      ]
    },
    {
      "cell_type": "code",
      "source": [
        "# scaled(['stock_volatility','active_risk','market_beta'])\n",
        "# data[['stock_volatility','active_risk','market_beta']]"
      ],
      "metadata": {
        "id": "qML_REFHL0rH"
      },
      "execution_count": null,
      "outputs": []
    },
    {
      "cell_type": "code",
      "source": [
        "print(df.columns.tolist())"
      ],
      "metadata": {
        "id": "X38cgNdpAds5",
        "colab": {
          "base_uri": "https://localhost:8080/"
        },
        "outputId": "2a9783bf-b024-40eb-b1a8-ae9f7773bffe"
      },
      "execution_count": null,
      "outputs": [
        {
          "output_type": "stream",
          "name": "stdout",
          "text": [
            "['bwid', 'download_date', 'last_data', 'bw_ticker', 'bbg_ticker', 'exch_ticker', 'name', 'description', 'market_status', 'relative_size', 'share_price_local_cy', 'share_price_USD', 'dividend_yield', 'share_currency', 'reporting_currency', 'market_cap', 'market_cap_free_float', 'country_risk', 'country_hq', 'country_exposure', 'primary_exchange', 'exchangeCountry', 'second_listings', 'sector_theme', 'sector', 'industry', 'sub_industry', 'esg_compatible', 'tradeability', 'alpha_forecast', 'candidate', 'flag', 'alert', 'arguments', 'tech_indicator', 'auditor_caveat', 'auditor_warning', 'l3m_resid_perf', 'up_base_score', 'l1m_up_score_delta', 'down_base_score', 'l1m_down_score_delta', 'select_base_score', 'l1m_score_delta', 'fitness_score', 'bus_fitness_score', 'fin_fitness_score', 'value_score', 'valuation_score', 'mgmt_score', 'mom_score', 'fund_mom_score', 'tech_mom_score', 'controversy_score', 'active_risk', 'market_beta', 'recession_score', 'recovery_score', 'brokers_score', 'region', 'macro_profile', 'ev', 'stock_volatility', 'roc', 'longterm_roc', 'bw_beta', 'cost_equity', 'cost_debt', 'bw_wacc', 'alpha_over_sigma', 'long_term_eva', 'eva_mom', 'eva_mom2', 'roc_volatility', 'sustainable_growth', 'lt_growth', 'debt_ev', 'ltl_ev', 'merton', 'divi_sustainability', 'fcf_ev', 'ev_ebit_premium', 'sector_rel_pb', 'country_rel_pe', 'chge_nosh', 'chg_insider_holdings', 'chg_net_operating_assets', 'px_surprise', 'chg_consensus_eps', 'roa_capex', 'money_flow_idx', 'rel_strength_idx', 'pb_x_eps_g', 'igdp_score', 'iemc_score', 'ilci_score', 'absolute_return_L1M', 'absolute_return_L3M', 'absolute_return_YTD', 'absolute_return_L6M', 'absolute_return_L1Y', 'relative_return_L1M', 'relative_return_L3M', 'relative_return_YTD', 'relative_return_L6M', 'relative_return_L1Y']\n"
          ]
        }
      ]
    },
    {
      "cell_type": "code",
      "source": [
        "print(data['sector'].unique())"
      ],
      "metadata": {
        "colab": {
          "base_uri": "https://localhost:8080/"
        },
        "id": "vAUa365BLsf6",
        "outputId": "8d79a5ae-49c8-41b7-ddd5-fe5263666dd5"
      },
      "execution_count": null,
      "outputs": [
        {
          "output_type": "stream",
          "name": "stdout",
          "text": [
            "['Communication Services' 'Information Technology'\n",
            " 'Consumer Discretionary' 'Financials' 'Consumer Staples' 'Energy'\n",
            " 'Materials' 'Utilities' 'Health Care' 'Industrials']\n"
          ]
        }
      ]
    },
    {
      "cell_type": "code",
      "source": [
        "list(data[data['region']=='em']['country_risk'].unique())\n",
        "print(data[data['region']=='eu']['country_risk'].unique())\n",
        "# list(data[data['region']=='jp']['country_risk'].unique())\n",
        "# list(data[data['region']=='na']['country_risk'].unique())"
      ],
      "metadata": {
        "colab": {
          "base_uri": "https://localhost:8080/"
        },
        "id": "YWWSkrX7gM5F",
        "outputId": "adf195cc-40f9-449a-ea98-3b0e159813f4"
      },
      "execution_count": null,
      "outputs": [
        {
          "output_type": "stream",
          "name": "stdout",
          "text": [
            "['GB' 'CH' 'FR' 'DK' 'BE' 'DE' 'ES' 'NL' 'IT' 'SE' 'FI' 'IE' 'NO' 'AT'\n",
            " 'PT']\n"
          ]
        }
      ]
    },
    {
      "cell_type": "code",
      "source": [
        "list(data['candidate'].unique())"
      ],
      "metadata": {
        "colab": {
          "base_uri": "https://localhost:8080/"
        },
        "id": "vHpF1QD8MQ6i",
        "outputId": "72c61ae2-7e51-488c-d275-b4d52650a060"
      },
      "execution_count": null,
      "outputs": [
        {
          "output_type": "execute_result",
          "data": {
            "text/plain": [
              "['NO', 'SHORT', 'YES', 'HIGH_OCTANE']"
            ]
          },
          "metadata": {},
          "execution_count": 25
        }
      ]
    },
    {
      "cell_type": "code",
      "source": [
        "list(data['region'].unique())"
      ],
      "metadata": {
        "colab": {
          "base_uri": "https://localhost:8080/"
        },
        "outputId": "fa194ba0-8497-48fc-c548-e59fb7fc14f7",
        "id": "dMzQYHHdMTxh"
      },
      "execution_count": null,
      "outputs": [
        {
          "output_type": "execute_result",
          "data": {
            "text/plain": [
              "['em', 'na', 'eu', 'jp']"
            ]
          },
          "metadata": {},
          "execution_count": 26
        }
      ]
    },
    {
      "cell_type": "code",
      "source": [
        "from sklearn.preprocessing import OneHotEncoder"
      ],
      "metadata": {
        "id": "Mwdi7PUKG2Yu"
      },
      "execution_count": null,
      "outputs": []
    },
    {
      "cell_type": "code",
      "source": [
        "yX = [\n",
        "  ['select_base_score', 'fitness_score','value_score','mom_score','controversy_score'],\n",
        "  ['up_base_score',     'fitness_score','value_score','mom_score','controversy_score'],\n",
        "  ['down_base_score',   'fitness_score','value_score','mom_score','controversy_score'],\n",
        "  ['fitness_score',     'bus_fitness_score','fin_fitness_score'],\n",
        "  ['bus_fitness_score', 'long_term_eva','roc_volatility','eva_mom','eva_mom2','alpha_over_sigma','sustainable_growth','lt_growth'],\n",
        "  ['fin_fitness_score', 'debt_ev','ltl_ev','merton','divi_sustainability'],\n",
        "  ['fitness_score',     'bus_fitness_score','fin_fitness_score'],\n",
        "  ['value_score',       'valuation_score','mgmt_score'],\n",
        "  ['valuation_score',   'fcf_ev','ev_ebit_premium','sector_rel_pb','country_rel_pe'],\n",
        "  ['mgmt_score',        'chge_nosh','chg_insider_holdings','chg_net_operating_assets'],\n",
        "  ['mom_score',         'fund_mom_score','tech_mom_score'],\n",
        "  ['fund_mom_score',    'px_surprise','chg_consensus_eps','roa_capex'],\n",
        "  ['tech_mom_score',    'rel_strength_idx','money_flow_idx','pb_x_eps_g'],\n",
        "  ['controversy_score', 'stock_volatility','active_risk','market_beta'],\n",
        "  ['select_base_score', 'bus_fitness_score','fin_fitness_score',\n",
        "                        'valuation_score','mgmt_score',\n",
        "                        'fund_mom_score','tech_mom_score',\n",
        "                        'controversy_score'],\n",
        "  ['select_base_score', 'long_term_eva','roc_volatility','eva_mom','eva_mom2','alpha_over_sigma','sustainable_growth','lt_growth',\n",
        "                        'debt_ev','ltl_ev','merton','divi_sustainability',\n",
        "                        'fcf_ev','ev_ebit_premium','sector_rel_pb','country_rel_pe',\n",
        "                        'chge_nosh','chg_insider_holdings','chg_net_operating_assets',\n",
        "                        'px_surprise','chg_consensus_eps','roa_capex',\n",
        "                        'rel_strength_idx','money_flow_idx','pb_x_eps_g',\n",
        "                        'stock_volatility','active_risk','market_beta']\n",
        "  ,['select_base_score','alpha_forecast']\n",
        "  # ,['candidate','select_base_score','recession_score']\n",
        "]"
      ],
      "metadata": {
        "id": "CIchOCvV0Yqw"
      },
      "execution_count": null,
      "outputs": []
    },
    {
      "cell_type": "code",
      "source": [
        "print('{:>18s} | {:>8s}'.format('y','accuracy % / trained % |'))\n",
        "for yXs in yX:\n",
        "  temp = clean_dataset(data[yXs])\n",
        "  X = temp[yXs[1:]]\n",
        "  y = temp[yXs[0]]\n",
        "  X_train, X_test, y_train, y_test = train_test_split(X, y, test_size=0.1, random_state=None)\n",
        "  # X_train = scale(X_train,yXs[1:])\n",
        "  # X_test = scale(X_test,yXs[1:])\n",
        "  # y_train = scale(y_train,yXs[0])\n",
        "  # y_test = scale(y_test,yXs[0])\n",
        "  model.fit(X_train, y_train)\n",
        "  pred_train = model.predict(X_train)\n",
        "  pred_test = model.predict(X_test)\n",
        "  print('{:>18s} | {:10.2f} / {:9.2f} | {}...'.format(yXs[0], model.score(X_test, y_test)*100, model.score(X_train, y_train)*100, yXs[1]))\n",
        "  pred_test = pred_test.reshape(-1, 1)\n",
        "  pred_test = scaler.fit_transform(pred_test)\n",
        "  pred_test = [round(i,1) for s in pred_test for i in s]"
      ],
      "metadata": {
        "colab": {
          "base_uri": "https://localhost:8080/"
        },
        "id": "f5RzewTtehNN",
        "outputId": "5a776ca7-47c8-4449-802c-0d6a84a83e7c"
      },
      "execution_count": null,
      "outputs": [
        {
          "output_type": "stream",
          "name": "stdout",
          "text": [
            "                 y | accuracy % / trained % |\n",
            " select_base_score |      85.95 /     88.68 | fitness_score...\n",
            "     up_base_score |      87.87 /     88.46 | fitness_score...\n",
            "   down_base_score |      75.22 /     71.68 | fitness_score...\n",
            "     fitness_score |      96.11 /     95.93 | bus_fitness_score...\n",
            " bus_fitness_score |      81.06 /     79.77 | long_term_eva...\n",
            " fin_fitness_score |      79.64 /     77.96 | debt_ev...\n",
            "     fitness_score |      95.66 /     95.98 | bus_fitness_score...\n",
            "       value_score |      98.35 /     98.20 | valuation_score...\n",
            "   valuation_score |      83.90 /     85.61 | fcf_ev...\n",
            "        mgmt_score |      85.97 /     84.33 | chge_nosh...\n",
            "         mom_score |      94.61 /     93.69 | fund_mom_score...\n",
            "    fund_mom_score |      76.12 /     79.93 | px_surprise...\n",
            "    tech_mom_score |      88.09 /     86.97 | rel_strength_idx...\n",
            " controversy_score |      89.51 /     89.09 | stock_volatility...\n",
            " select_base_score |      89.42 /     87.38 | bus_fitness_score...\n",
            " select_base_score |      81.79 /     81.47 | long_term_eva...\n",
            " select_base_score |      86.31 /     86.18 | alpha_forecast...\n"
          ]
        }
      ]
    },
    {
      "cell_type": "code",
      "source": [
        "data['upcycle'] = (data['up_base_score'] == data['select_base_score'])\n",
        "n = sum(data['upcycle'])\n",
        "if n > 0:\n",
        "  print(n,\"  upcycle scores computed\")\n",
        "n = len(data) - n\n",
        "if n > 0:\n",
        "  print(n,\"downcycle scores computed\")"
      ],
      "metadata": {
        "id": "s0tORki7zL_f"
      },
      "execution_count": null,
      "outputs": []
    },
    {
      "cell_type": "code",
      "source": [
        "data['bw_exchange'] = data[\"bw_ticker\"].str.split(\":\", n = 1, expand = True)[1]"
      ],
      "metadata": {
        "id": "l78GxYwltNOD"
      },
      "execution_count": null,
      "outputs": []
    },
    {
      "cell_type": "code",
      "source": [
        "data.groupby(['exchangeCountry','primary_exchange','bw_exchange'])['bw_exchange'].count()"
      ],
      "metadata": {
        "id": "yoHVhANOt_rs"
      },
      "execution_count": null,
      "outputs": []
    },
    {
      "cell_type": "code",
      "source": [
        "print(data['bw_exchange'].unique())"
      ],
      "metadata": {
        "id": "Uur5gDwqtYTw"
      },
      "execution_count": null,
      "outputs": []
    },
    {
      "cell_type": "code",
      "source": [
        "print(data['primary_exchange'].unique())"
      ],
      "metadata": {
        "id": "KIZLTqK4tqkK"
      },
      "execution_count": null,
      "outputs": []
    },
    {
      "cell_type": "code",
      "source": [
        "X_test"
      ],
      "metadata": {
        "id": "tMwPDFhUItdE"
      },
      "execution_count": null,
      "outputs": []
    },
    {
      "cell_type": "code",
      "source": [
        "pred_test"
      ],
      "metadata": {
        "id": "CPpQOv1vIyFf"
      },
      "execution_count": null,
      "outputs": []
    },
    {
      "cell_type": "code",
      "source": [
        "y_test"
      ],
      "metadata": {
        "id": "yNwNaKYWI9QJ"
      },
      "execution_count": null,
      "outputs": []
    },
    {
      "cell_type": "code",
      "source": [
        "type(y_test)"
      ],
      "metadata": {
        "id": "K3ogFE6pIyYD"
      },
      "execution_count": null,
      "outputs": []
    },
    {
      "cell_type": "code",
      "source": [
        "type(pred_test)"
      ],
      "metadata": {
        "id": "iYNmLQgwIymx"
      },
      "execution_count": null,
      "outputs": []
    },
    {
      "cell_type": "code",
      "source": [
        "d = {'select_base_score': y_test, 'pred_test': pred_test}\n",
        "\n",
        "pd.concat([pd.Series(v, name=k) for k, v in d.items()], axis=1)"
      ],
      "metadata": {
        "id": "eiHVkVusIy0W"
      },
      "execution_count": null,
      "outputs": []
    },
    {
      "cell_type": "code",
      "source": [
        "import scipy as sp\n",
        "import matplotlib.pyplot as plt\n",
        "import seaborn as sns"
      ],
      "metadata": {
        "id": "XaryiJywIy-Z"
      },
      "execution_count": null,
      "outputs": []
    },
    {
      "cell_type": "code",
      "source": [
        "X = survey.data[survey.feature_names]\n",
        "X.describe(include=\"all\")"
      ],
      "metadata": {
        "id": "gqMYDvMqIzQ7"
      },
      "execution_count": null,
      "outputs": []
    },
    {
      "cell_type": "code",
      "source": [
        "data.describe()"
      ],
      "metadata": {
        "colab": {
          "base_uri": "https://localhost:8080/",
          "height": 393
        },
        "id": "ZwLWVI6nIzfy",
        "outputId": "f2ec1247-60e8-41a3-ecff-5648b03baa42"
      },
      "execution_count": null,
      "outputs": [
        {
          "output_type": "execute_result",
          "data": {
            "text/plain": [
              "       share_price_local_cy  share_price_USD  dividend_yield    market_cap  \\\n",
              "count           6636.000000      6648.000000     6648.000000  6.648000e+03   \n",
              "mean            6404.513641       155.556544        2.546441  1.401087e+10   \n",
              "std            41846.597505      6060.435596        2.411408  6.262865e+10   \n",
              "min                0.012400         0.000307        0.000000  2.605240e+06   \n",
              "25%               13.700000         3.808582        0.290000  1.483790e+09   \n",
              "50%               48.430000        16.820723        2.020000  3.449762e+09   \n",
              "75%              228.062500        49.126263        4.000000  9.455392e+09   \n",
              "max           847915.696034    481400.000000        8.100000  2.555135e+12   \n",
              "\n",
              "       market_cap_free_float  alpha_forecast  l3m_resid_perf  up_base_score  \\\n",
              "count            6645.000000     6648.000000     6648.000000    6648.000000   \n",
              "mean                0.725520       -0.005681       -0.117599       4.591080   \n",
              "std                 0.253840        0.039153        2.602300       2.930454   \n",
              "min                 0.000081       -0.238310       -4.000000       0.000000   \n",
              "25%                 0.509188       -0.025979       -2.400000       2.100000   \n",
              "50%                 0.794844       -0.004066       -0.200000       4.500000   \n",
              "75%                 0.971143        0.015169        2.100000       6.800000   \n",
              "max                 1.000000        0.194504        4.000000      10.000000   \n",
              "\n",
              "       l1m_up_score_delta  down_base_score  ...  absolute_return_L1M  \\\n",
              "count         6577.000000      6648.000000  ...          6648.000000   \n",
              "mean            -0.012772         4.620999  ...            -0.091843   \n",
              "std              0.758445         2.946366  ...             0.109661   \n",
              "min             -8.500000         0.000000  ...            -0.842901   \n",
              "25%             -0.200000         2.100000  ...            -0.145854   \n",
              "50%              0.000000         4.600000  ...            -0.081624   \n",
              "75%              0.200000         7.000000  ...            -0.028112   \n",
              "max              9.000000        10.000000  ...             0.687718   \n",
              "\n",
              "       absolute_return_L3M  absolute_return_YTD  absolute_return_L6M  \\\n",
              "count          6648.000000          6648.000000          6640.000000   \n",
              "mean             -0.078484            -0.114266            -0.133614   \n",
              "std               0.192171             0.239937             0.267656   \n",
              "min              -0.999126            -0.999173            -0.999303   \n",
              "25%              -0.182320            -0.252100            -0.282003   \n",
              "50%              -0.089787            -0.125101            -0.141264   \n",
              "75%               0.014611             0.002385             0.000352   \n",
              "max               1.499294             2.019718             2.663527   \n",
              "\n",
              "       absolute_return_L1Y  relative_return_L1M  relative_return_L3M  \\\n",
              "count          6571.000000          6648.000000          6648.000000   \n",
              "mean             -0.068174             0.001527             0.025581   \n",
              "std               0.455505             0.109775             0.192074   \n",
              "min              -0.999055            -0.759615            -0.878599   \n",
              "25%              -0.283829            -0.053517            -0.079958   \n",
              "50%              -0.105649             0.010699             0.016661   \n",
              "75%               0.075467             0.065764             0.118643   \n",
              "max              11.671429             0.771004             1.619822   \n",
              "\n",
              "       relative_return_YTD  relative_return_L6M  relative_return_L1Y  \n",
              "count          6648.000000          6640.000000          6571.000000  \n",
              "mean              0.021315             0.011211             0.042858  \n",
              "std               0.239177             0.268038             0.466579  \n",
              "min              -0.869055            -0.846239            -0.958028  \n",
              "25%              -0.115441            -0.133394            -0.182845  \n",
              "50%               0.010648             0.005200            -0.004547  \n",
              "75%               0.137136             0.144165             0.200195  \n",
              "max               2.152032             2.816591            11.681791  \n",
              "\n",
              "[8 rows x 74 columns]"
            ],
            "text/html": [
              "\n",
              "  <div id=\"df-7136a002-50d3-4dee-92ea-e90c1d4fcea2\">\n",
              "    <div class=\"colab-df-container\">\n",
              "      <div>\n",
              "<style scoped>\n",
              "    .dataframe tbody tr th:only-of-type {\n",
              "        vertical-align: middle;\n",
              "    }\n",
              "\n",
              "    .dataframe tbody tr th {\n",
              "        vertical-align: top;\n",
              "    }\n",
              "\n",
              "    .dataframe thead th {\n",
              "        text-align: right;\n",
              "    }\n",
              "</style>\n",
              "<table border=\"1\" class=\"dataframe\">\n",
              "  <thead>\n",
              "    <tr style=\"text-align: right;\">\n",
              "      <th></th>\n",
              "      <th>share_price_local_cy</th>\n",
              "      <th>share_price_USD</th>\n",
              "      <th>dividend_yield</th>\n",
              "      <th>market_cap</th>\n",
              "      <th>market_cap_free_float</th>\n",
              "      <th>alpha_forecast</th>\n",
              "      <th>l3m_resid_perf</th>\n",
              "      <th>up_base_score</th>\n",
              "      <th>l1m_up_score_delta</th>\n",
              "      <th>down_base_score</th>\n",
              "      <th>...</th>\n",
              "      <th>absolute_return_L1M</th>\n",
              "      <th>absolute_return_L3M</th>\n",
              "      <th>absolute_return_YTD</th>\n",
              "      <th>absolute_return_L6M</th>\n",
              "      <th>absolute_return_L1Y</th>\n",
              "      <th>relative_return_L1M</th>\n",
              "      <th>relative_return_L3M</th>\n",
              "      <th>relative_return_YTD</th>\n",
              "      <th>relative_return_L6M</th>\n",
              "      <th>relative_return_L1Y</th>\n",
              "    </tr>\n",
              "  </thead>\n",
              "  <tbody>\n",
              "    <tr>\n",
              "      <th>count</th>\n",
              "      <td>6636.000000</td>\n",
              "      <td>6648.000000</td>\n",
              "      <td>6648.000000</td>\n",
              "      <td>6.648000e+03</td>\n",
              "      <td>6645.000000</td>\n",
              "      <td>6648.000000</td>\n",
              "      <td>6648.000000</td>\n",
              "      <td>6648.000000</td>\n",
              "      <td>6577.000000</td>\n",
              "      <td>6648.000000</td>\n",
              "      <td>...</td>\n",
              "      <td>6648.000000</td>\n",
              "      <td>6648.000000</td>\n",
              "      <td>6648.000000</td>\n",
              "      <td>6640.000000</td>\n",
              "      <td>6571.000000</td>\n",
              "      <td>6648.000000</td>\n",
              "      <td>6648.000000</td>\n",
              "      <td>6648.000000</td>\n",
              "      <td>6640.000000</td>\n",
              "      <td>6571.000000</td>\n",
              "    </tr>\n",
              "    <tr>\n",
              "      <th>mean</th>\n",
              "      <td>6404.513641</td>\n",
              "      <td>155.556544</td>\n",
              "      <td>2.546441</td>\n",
              "      <td>1.401087e+10</td>\n",
              "      <td>0.725520</td>\n",
              "      <td>-0.005681</td>\n",
              "      <td>-0.117599</td>\n",
              "      <td>4.591080</td>\n",
              "      <td>-0.012772</td>\n",
              "      <td>4.620999</td>\n",
              "      <td>...</td>\n",
              "      <td>-0.091843</td>\n",
              "      <td>-0.078484</td>\n",
              "      <td>-0.114266</td>\n",
              "      <td>-0.133614</td>\n",
              "      <td>-0.068174</td>\n",
              "      <td>0.001527</td>\n",
              "      <td>0.025581</td>\n",
              "      <td>0.021315</td>\n",
              "      <td>0.011211</td>\n",
              "      <td>0.042858</td>\n",
              "    </tr>\n",
              "    <tr>\n",
              "      <th>std</th>\n",
              "      <td>41846.597505</td>\n",
              "      <td>6060.435596</td>\n",
              "      <td>2.411408</td>\n",
              "      <td>6.262865e+10</td>\n",
              "      <td>0.253840</td>\n",
              "      <td>0.039153</td>\n",
              "      <td>2.602300</td>\n",
              "      <td>2.930454</td>\n",
              "      <td>0.758445</td>\n",
              "      <td>2.946366</td>\n",
              "      <td>...</td>\n",
              "      <td>0.109661</td>\n",
              "      <td>0.192171</td>\n",
              "      <td>0.239937</td>\n",
              "      <td>0.267656</td>\n",
              "      <td>0.455505</td>\n",
              "      <td>0.109775</td>\n",
              "      <td>0.192074</td>\n",
              "      <td>0.239177</td>\n",
              "      <td>0.268038</td>\n",
              "      <td>0.466579</td>\n",
              "    </tr>\n",
              "    <tr>\n",
              "      <th>min</th>\n",
              "      <td>0.012400</td>\n",
              "      <td>0.000307</td>\n",
              "      <td>0.000000</td>\n",
              "      <td>2.605240e+06</td>\n",
              "      <td>0.000081</td>\n",
              "      <td>-0.238310</td>\n",
              "      <td>-4.000000</td>\n",
              "      <td>0.000000</td>\n",
              "      <td>-8.500000</td>\n",
              "      <td>0.000000</td>\n",
              "      <td>...</td>\n",
              "      <td>-0.842901</td>\n",
              "      <td>-0.999126</td>\n",
              "      <td>-0.999173</td>\n",
              "      <td>-0.999303</td>\n",
              "      <td>-0.999055</td>\n",
              "      <td>-0.759615</td>\n",
              "      <td>-0.878599</td>\n",
              "      <td>-0.869055</td>\n",
              "      <td>-0.846239</td>\n",
              "      <td>-0.958028</td>\n",
              "    </tr>\n",
              "    <tr>\n",
              "      <th>25%</th>\n",
              "      <td>13.700000</td>\n",
              "      <td>3.808582</td>\n",
              "      <td>0.290000</td>\n",
              "      <td>1.483790e+09</td>\n",
              "      <td>0.509188</td>\n",
              "      <td>-0.025979</td>\n",
              "      <td>-2.400000</td>\n",
              "      <td>2.100000</td>\n",
              "      <td>-0.200000</td>\n",
              "      <td>2.100000</td>\n",
              "      <td>...</td>\n",
              "      <td>-0.145854</td>\n",
              "      <td>-0.182320</td>\n",
              "      <td>-0.252100</td>\n",
              "      <td>-0.282003</td>\n",
              "      <td>-0.283829</td>\n",
              "      <td>-0.053517</td>\n",
              "      <td>-0.079958</td>\n",
              "      <td>-0.115441</td>\n",
              "      <td>-0.133394</td>\n",
              "      <td>-0.182845</td>\n",
              "    </tr>\n",
              "    <tr>\n",
              "      <th>50%</th>\n",
              "      <td>48.430000</td>\n",
              "      <td>16.820723</td>\n",
              "      <td>2.020000</td>\n",
              "      <td>3.449762e+09</td>\n",
              "      <td>0.794844</td>\n",
              "      <td>-0.004066</td>\n",
              "      <td>-0.200000</td>\n",
              "      <td>4.500000</td>\n",
              "      <td>0.000000</td>\n",
              "      <td>4.600000</td>\n",
              "      <td>...</td>\n",
              "      <td>-0.081624</td>\n",
              "      <td>-0.089787</td>\n",
              "      <td>-0.125101</td>\n",
              "      <td>-0.141264</td>\n",
              "      <td>-0.105649</td>\n",
              "      <td>0.010699</td>\n",
              "      <td>0.016661</td>\n",
              "      <td>0.010648</td>\n",
              "      <td>0.005200</td>\n",
              "      <td>-0.004547</td>\n",
              "    </tr>\n",
              "    <tr>\n",
              "      <th>75%</th>\n",
              "      <td>228.062500</td>\n",
              "      <td>49.126263</td>\n",
              "      <td>4.000000</td>\n",
              "      <td>9.455392e+09</td>\n",
              "      <td>0.971143</td>\n",
              "      <td>0.015169</td>\n",
              "      <td>2.100000</td>\n",
              "      <td>6.800000</td>\n",
              "      <td>0.200000</td>\n",
              "      <td>7.000000</td>\n",
              "      <td>...</td>\n",
              "      <td>-0.028112</td>\n",
              "      <td>0.014611</td>\n",
              "      <td>0.002385</td>\n",
              "      <td>0.000352</td>\n",
              "      <td>0.075467</td>\n",
              "      <td>0.065764</td>\n",
              "      <td>0.118643</td>\n",
              "      <td>0.137136</td>\n",
              "      <td>0.144165</td>\n",
              "      <td>0.200195</td>\n",
              "    </tr>\n",
              "    <tr>\n",
              "      <th>max</th>\n",
              "      <td>847915.696034</td>\n",
              "      <td>481400.000000</td>\n",
              "      <td>8.100000</td>\n",
              "      <td>2.555135e+12</td>\n",
              "      <td>1.000000</td>\n",
              "      <td>0.194504</td>\n",
              "      <td>4.000000</td>\n",
              "      <td>10.000000</td>\n",
              "      <td>9.000000</td>\n",
              "      <td>10.000000</td>\n",
              "      <td>...</td>\n",
              "      <td>0.687718</td>\n",
              "      <td>1.499294</td>\n",
              "      <td>2.019718</td>\n",
              "      <td>2.663527</td>\n",
              "      <td>11.671429</td>\n",
              "      <td>0.771004</td>\n",
              "      <td>1.619822</td>\n",
              "      <td>2.152032</td>\n",
              "      <td>2.816591</td>\n",
              "      <td>11.681791</td>\n",
              "    </tr>\n",
              "  </tbody>\n",
              "</table>\n",
              "<p>8 rows × 74 columns</p>\n",
              "</div>\n",
              "      <button class=\"colab-df-convert\" onclick=\"convertToInteractive('df-7136a002-50d3-4dee-92ea-e90c1d4fcea2')\"\n",
              "              title=\"Convert this dataframe to an interactive table.\"\n",
              "              style=\"display:none;\">\n",
              "        \n",
              "  <svg xmlns=\"http://www.w3.org/2000/svg\" height=\"24px\"viewBox=\"0 0 24 24\"\n",
              "       width=\"24px\">\n",
              "    <path d=\"M0 0h24v24H0V0z\" fill=\"none\"/>\n",
              "    <path d=\"M18.56 5.44l.94 2.06.94-2.06 2.06-.94-2.06-.94-.94-2.06-.94 2.06-2.06.94zm-11 1L8.5 8.5l.94-2.06 2.06-.94-2.06-.94L8.5 2.5l-.94 2.06-2.06.94zm10 10l.94 2.06.94-2.06 2.06-.94-2.06-.94-.94-2.06-.94 2.06-2.06.94z\"/><path d=\"M17.41 7.96l-1.37-1.37c-.4-.4-.92-.59-1.43-.59-.52 0-1.04.2-1.43.59L10.3 9.45l-7.72 7.72c-.78.78-.78 2.05 0 2.83L4 21.41c.39.39.9.59 1.41.59.51 0 1.02-.2 1.41-.59l7.78-7.78 2.81-2.81c.8-.78.8-2.07 0-2.86zM5.41 20L4 18.59l7.72-7.72 1.47 1.35L5.41 20z\"/>\n",
              "  </svg>\n",
              "      </button>\n",
              "      \n",
              "  <style>\n",
              "    .colab-df-container {\n",
              "      display:flex;\n",
              "      flex-wrap:wrap;\n",
              "      gap: 12px;\n",
              "    }\n",
              "\n",
              "    .colab-df-convert {\n",
              "      background-color: #E8F0FE;\n",
              "      border: none;\n",
              "      border-radius: 50%;\n",
              "      cursor: pointer;\n",
              "      display: none;\n",
              "      fill: #1967D2;\n",
              "      height: 32px;\n",
              "      padding: 0 0 0 0;\n",
              "      width: 32px;\n",
              "    }\n",
              "\n",
              "    .colab-df-convert:hover {\n",
              "      background-color: #E2EBFA;\n",
              "      box-shadow: 0px 1px 2px rgba(60, 64, 67, 0.3), 0px 1px 3px 1px rgba(60, 64, 67, 0.15);\n",
              "      fill: #174EA6;\n",
              "    }\n",
              "\n",
              "    [theme=dark] .colab-df-convert {\n",
              "      background-color: #3B4455;\n",
              "      fill: #D2E3FC;\n",
              "    }\n",
              "\n",
              "    [theme=dark] .colab-df-convert:hover {\n",
              "      background-color: #434B5C;\n",
              "      box-shadow: 0px 1px 3px 1px rgba(0, 0, 0, 0.15);\n",
              "      filter: drop-shadow(0px 1px 2px rgba(0, 0, 0, 0.3));\n",
              "      fill: #FFFFFF;\n",
              "    }\n",
              "  </style>\n",
              "\n",
              "      <script>\n",
              "        const buttonEl =\n",
              "          document.querySelector('#df-7136a002-50d3-4dee-92ea-e90c1d4fcea2 button.colab-df-convert');\n",
              "        buttonEl.style.display =\n",
              "          google.colab.kernel.accessAllowed ? 'block' : 'none';\n",
              "\n",
              "        async function convertToInteractive(key) {\n",
              "          const element = document.querySelector('#df-7136a002-50d3-4dee-92ea-e90c1d4fcea2');\n",
              "          const dataTable =\n",
              "            await google.colab.kernel.invokeFunction('convertToInteractive',\n",
              "                                                     [key], {});\n",
              "          if (!dataTable) return;\n",
              "\n",
              "          const docLinkHtml = 'Like what you see? Visit the ' +\n",
              "            '<a target=\"_blank\" href=https://colab.research.google.com/notebooks/data_table.ipynb>data table notebook</a>'\n",
              "            + ' to learn more about interactive tables.';\n",
              "          element.innerHTML = '';\n",
              "          dataTable['output_type'] = 'display_data';\n",
              "          await google.colab.output.renderOutput(dataTable, element);\n",
              "          const docLink = document.createElement('div');\n",
              "          docLink.innerHTML = docLinkHtml;\n",
              "          element.appendChild(docLink);\n",
              "        }\n",
              "      </script>\n",
              "    </div>\n",
              "  </div>\n",
              "  "
            ]
          },
          "metadata": {},
          "execution_count": 56
        }
      ]
    },
    {
      "cell_type": "code",
      "source": [
        ""
      ],
      "metadata": {
        "id": "464kDKZaIzxT"
      },
      "execution_count": null,
      "outputs": []
    },
    {
      "cell_type": "code",
      "source": [
        ""
      ],
      "metadata": {
        "id": "JFE3HbvUI0H6"
      },
      "execution_count": null,
      "outputs": []
    }
  ]
}